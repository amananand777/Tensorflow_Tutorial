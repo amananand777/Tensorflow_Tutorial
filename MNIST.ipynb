{
  "nbformat": 4,
  "nbformat_minor": 0,
  "metadata": {
    "colab": {
      "name": "MNIST.ipynb",
      "provenance": [],
      "collapsed_sections": [],
      "authorship_tag": "ABX9TyNhZSQ2QJkZLmyIfFxAEP84",
      "include_colab_link": true
    },
    "kernelspec": {
      "name": "python3",
      "display_name": "Python 3"
    }
  },
  "cells": [
    {
      "cell_type": "markdown",
      "metadata": {
        "id": "view-in-github",
        "colab_type": "text"
      },
      "source": [
        "<a href=\"https://colab.research.google.com/github/amananand777/Tensorflow_Tutorial/blob/master/MNIST.ipynb\" target=\"_parent\"><img src=\"https://colab.research.google.com/assets/colab-badge.svg\" alt=\"Open In Colab\"/></a>"
      ]
    },
    {
      "cell_type": "code",
      "metadata": {
        "id": "eztPpfznSkS7",
        "colab_type": "code",
        "colab": {}
      },
      "source": [
        "# Import the libraries\n",
        "\n",
        "import tensorflow as tf\n",
        "from tensorflow import keras\n",
        "from matplotlib import pyplot as plt"
      ],
      "execution_count": 0,
      "outputs": []
    },
    {
      "cell_type": "code",
      "metadata": {
        "id": "n9MPEv6oSvTg",
        "colab_type": "code",
        "colab": {}
      },
      "source": [
        "# Define callback class and method\n",
        "\n",
        "class myCallback (tf.keras.callbacks.Callback):\n",
        "  def on_epoch_end (self, epoch, logs={}):\n",
        "    if(logs.get('accuracy')>0.99):\n",
        "      print(\"\\n Reached accuracy of 99%. Stopping training !\")\n",
        "      self.model.stop_training = True"
      ],
      "execution_count": 0,
      "outputs": []
    },
    {
      "cell_type": "code",
      "metadata": {
        "id": "tVh6aH9FTe6a",
        "colab_type": "code",
        "colab": {}
      },
      "source": [
        "callbacks = myCallback()"
      ],
      "execution_count": 0,
      "outputs": []
    },
    {
      "cell_type": "code",
      "metadata": {
        "id": "6TfJbtmiTk_t",
        "colab_type": "code",
        "colab": {}
      },
      "source": [
        "# Load and normalize the dataset\n",
        "\n",
        "mnist = keras.datasets.mnist\n",
        "\n",
        "(x_train, y_train), (x_test, y_test) = mnist.load_data()\n",
        "\n",
        "x_train, x_test = x_train / 255, x_test / 255"
      ],
      "execution_count": 0,
      "outputs": []
    },
    {
      "cell_type": "code",
      "metadata": {
        "id": "R3wDsTY8UyB6",
        "colab_type": "code",
        "colab": {}
      },
      "source": [
        "# Check the data\n",
        "\n",
        "print(\"\\n Training label number: %d\" %(y_train[12]))\n",
        "plt.imshow(x_train[12])"
      ],
      "execution_count": 0,
      "outputs": []
    },
    {
      "cell_type": "code",
      "metadata": {
        "id": "cnBhShdVUH_J",
        "colab_type": "code",
        "colab": {}
      },
      "source": [
        "# Define the model with two hiddern layers and a softmax with 10 classes\n",
        "\n",
        "model = tf.keras.Sequential([\n",
        "                             tf.keras.layers.Flatten(),\n",
        "                             tf.keras.layers.Dense(256, activation = tf.nn.relu),\n",
        "                             tf.keras.layers.Dense(128, activation = tf.nn.relu),\n",
        "                             tf.keras.layers.Dense(10, activation = tf.nn.softmax)\n",
        "])"
      ],
      "execution_count": 0,
      "outputs": []
    },
    {
      "cell_type": "code",
      "metadata": {
        "id": "ywaqkpkrUe8m",
        "colab_type": "code",
        "colab": {}
      },
      "source": [
        "# Compile the model\n",
        "\n",
        "model.compile(optimizer = 'adam', loss = 'sparse_categorical_crossentropy', metrics=['accuracy'])"
      ],
      "execution_count": 0,
      "outputs": []
    },
    {
      "cell_type": "code",
      "metadata": {
        "id": "HxsC7-6NUslE",
        "colab_type": "code",
        "colab": {}
      },
      "source": [
        "# Train the model\n",
        "\n",
        "model.fit(x_train, y_train, epochs=8, callbacks=[callbacks])"
      ],
      "execution_count": 0,
      "outputs": []
    },
    {
      "cell_type": "code",
      "metadata": {
        "id": "kbRqnZ7MVNeJ",
        "colab_type": "code",
        "colab": {}
      },
      "source": [
        "# Evaluation on test set\n",
        "\n",
        "model.evaluate(x_test, y_test)"
      ],
      "execution_count": 0,
      "outputs": []
    },
    {
      "cell_type": "code",
      "metadata": {
        "id": "jQcVqB86VY3r",
        "colab_type": "code",
        "colab": {}
      },
      "source": [
        "# Prediction\n",
        "\n",
        "classifications = model.predict(x_test)\n",
        "print(\"\\n Ground truth label: %d\" % (y_test[23]))\n",
        "print(\"\\n Prediction: \" + str(classifications[23]))"
      ],
      "execution_count": 0,
      "outputs": []
    },
    {
      "cell_type": "code",
      "metadata": {
        "id": "5UwFMamXVlh_",
        "colab_type": "code",
        "colab": {}
      },
      "source": [
        ""
      ],
      "execution_count": 0,
      "outputs": []
    }
  ]
}