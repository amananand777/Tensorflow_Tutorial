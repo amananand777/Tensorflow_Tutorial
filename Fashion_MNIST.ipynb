{
  "nbformat": 4,
  "nbformat_minor": 0,
  "metadata": {
    "colab": {
      "name": "Fashion MNIST.ipynb",
      "provenance": [],
      "collapsed_sections": [],
      "authorship_tag": "ABX9TyPhiO6qRX+YhTYXKYKkUyvv",
      "include_colab_link": true
    },
    "kernelspec": {
      "name": "python3",
      "display_name": "Python 3"
    }
  },
  "cells": [
    {
      "cell_type": "markdown",
      "metadata": {
        "id": "view-in-github",
        "colab_type": "text"
      },
      "source": [
        "<a href=\"https://colab.research.google.com/github/amananand777/Tensorflow_Tutorial/blob/master/Fashion_MNIST.ipynb\" target=\"_parent\"><img src=\"https://colab.research.google.com/assets/colab-badge.svg\" alt=\"Open In Colab\"/></a>"
      ]
    },
    {
      "cell_type": "code",
      "metadata": {
        "id": "NVnBHuNuOS5F",
        "colab_type": "code",
        "colab": {}
      },
      "source": [
        "# Import the libraries\n",
        "\n",
        "import numpy as np\n",
        "import tensorflow as tf\n",
        "from tensorflow import keras\n",
        "from matplotlib import pyplot as plt"
      ],
      "execution_count": 0,
      "outputs": []
    },
    {
      "cell_type": "code",
      "metadata": {
        "id": "T22szdkdtp2J",
        "colab_type": "code",
        "colab": {}
      },
      "source": [
        "# Define the callback function\n",
        "\n",
        "class myCallback(tf.keras.callbacks.Callback):\n",
        "  def on_epoch_end (self, epoch, logs={}):\n",
        "    if(logs.get('accuracy')>0.88):\n",
        "      print(\"\\n Reached accuracy of 88%. Stopping training\")\n",
        "      self.model.stop_training = True"
      ],
      "execution_count": 0,
      "outputs": []
    },
    {
      "cell_type": "code",
      "metadata": {
        "id": "KODVbsRCtq8Q",
        "colab_type": "code",
        "colab": {}
      },
      "source": [
        "callbacks = myCallback()"
      ],
      "execution_count": 0,
      "outputs": []
    },
    {
      "cell_type": "code",
      "metadata": {
        "id": "mIPBRjuqOfen",
        "colab_type": "code",
        "colab": {}
      },
      "source": [
        "# Load the dataset\n",
        "\n",
        "fashion_mnist = keras.datasets.fashion_mnist\n",
        "\n",
        "(training_images, training_labels), (test_images, test_labels) = fashion_mnist.load_data()"
      ],
      "execution_count": 0,
      "outputs": []
    },
    {
      "cell_type": "code",
      "metadata": {
        "id": "DTWSKVUfO2oX",
        "colab_type": "code",
        "colab": {}
      },
      "source": [
        "print(training_images[0])\n",
        "plt.imshow(training_images[0])\n",
        "print(\"\\n Label for the training image: %d\" %(training_labels[0]))"
      ],
      "execution_count": 0,
      "outputs": []
    },
    {
      "cell_type": "code",
      "metadata": {
        "id": "xzWkNDDXPQOo",
        "colab_type": "code",
        "colab": {}
      },
      "source": [
        "# Normalize the input\n",
        "\n",
        "training_images = training_images / 255\n",
        "test_images = test_images / 255"
      ],
      "execution_count": 0,
      "outputs": []
    },
    {
      "cell_type": "code",
      "metadata": {
        "id": "VRqB1FIgQ0fI",
        "colab_type": "code",
        "colab": {}
      },
      "source": [
        "# Define the model with one hidden layer and a softmax with 10 classes\n",
        "\n",
        "model = tf.keras.Sequential([\n",
        "                             tf.keras.layers.Flatten(),\n",
        "                             tf.keras.layers.Dense(units=512, activation=tf.nn.relu),\n",
        "                             tf.keras.layers.Dense(units=10, activation=tf.nn.softmax)\n",
        "])"
      ],
      "execution_count": 0,
      "outputs": []
    },
    {
      "cell_type": "code",
      "metadata": {
        "id": "wSJMdu6oRwmb",
        "colab_type": "code",
        "colab": {}
      },
      "source": [
        "# Compile the model\n",
        "\n",
        "model.compile(optimizer='adam', loss='sparse_categorical_crossentropy', metrics=['accuracy'])"
      ],
      "execution_count": 0,
      "outputs": []
    },
    {
      "cell_type": "code",
      "metadata": {
        "id": "dq_y5ylzR7oi",
        "colab_type": "code",
        "colab": {}
      },
      "source": [
        "# Fit the model to the training set\n",
        "\n",
        "model.fit(training_images, training_labels, epochs=5, callbacks=[callbacks])"
      ],
      "execution_count": 0,
      "outputs": []
    },
    {
      "cell_type": "code",
      "metadata": {
        "id": "t4ICy0zeSAj2",
        "colab_type": "code",
        "colab": {}
      },
      "source": [
        "# Evaluate the accuracy on the test set\n",
        "\n",
        "model.evaluate(test_images, test_labels)"
      ],
      "execution_count": 0,
      "outputs": []
    },
    {
      "cell_type": "code",
      "metadata": {
        "id": "GfNrUBXYSO4p",
        "colab_type": "code",
        "colab": {}
      },
      "source": [
        "# Prediction\n",
        "\n",
        "classification = model.predict(test_images)\n",
        "print(\"\\n Ground label: %d\" %(test_labels[0]))\n",
        "print(classification[0])"
      ],
      "execution_count": 0,
      "outputs": []
    },
    {
      "cell_type": "code",
      "metadata": {
        "id": "NRocDtHcSzEk",
        "colab_type": "code",
        "colab": {}
      },
      "source": [
        ""
      ],
      "execution_count": 0,
      "outputs": []
    }
  ]
}